{
  "nbformat": 4,
  "nbformat_minor": 0,
  "metadata": {
    "kernelspec": {
      "display_name": "Python 3",
      "language": "python",
      "name": "python3"
    },
    "language_info": {
      "codemirror_mode": {
        "name": "ipython",
        "version": 3
      },
      "file_extension": ".py",
      "mimetype": "text/x-python",
      "name": "python",
      "nbconvert_exporter": "python",
      "pygments_lexer": "ipython3",
      "version": "3.5.5"
    },
    "colab": {
      "name": "BAN110-Project.ipynb",
      "provenance": [],
      "collapsed_sections": [],
      "include_colab_link": true
    }
  },
  "cells": [
    {
      "cell_type": "markdown",
      "metadata": {
        "id": "view-in-github",
        "colab_type": "text"
      },
      "source": [
        "<a href=\"https://colab.research.google.com/github/PruthviPatelML/Second-hand-Car-Price-Data-Analysis/blob/main/Senece_BAN110_Project_ExploratoryAnalysis.ipynb\" target=\"_parent\"><img src=\"https://colab.research.google.com/assets/colab-badge.svg\" alt=\"Open In Colab\"/></a>"
      ]
    },
    {
      "cell_type": "code",
      "metadata": {
        "colab": {
          "base_uri": "https://localhost:8080/"
        },
        "id": "PylFLEmGCA6S",
        "outputId": "d6dbab2c-d7d7-463c-c07f-979cad7fa364"
      },
      "source": [
        "from google.colab import drive\n",
        "drive.mount('/content/drive')"
      ],
      "execution_count": null,
      "outputs": [
        {
          "output_type": "stream",
          "text": [
            "Mounted at /content/drive\n"
          ],
          "name": "stdout"
        }
      ]
    },
    {
      "cell_type": "code",
      "metadata": {
        "colab": {
          "base_uri": "https://localhost:8080/"
        },
        "id": "6Rp8Wlp1Bzm5",
        "outputId": "33478f65-3089-4d7b-85ed-547b94885fb9"
      },
      "source": [
        "# Importing the dataset\n",
        "# We are using pandas library to read the csv format into dataframe format\n",
        "\n",
        "import pandas as pd\n",
        "import numpy as np\n",
        "\n",
        "df=pd.read_csv('/content/drive/MyDrive/BAN110-FinalDB.csv')\n",
        "df.info()"
      ],
      "execution_count": null,
      "outputs": [
        {
          "output_type": "stream",
          "text": [
            "<class 'pandas.core.frame.DataFrame'>\n",
            "RangeIndex: 3001 entries, 0 to 3000\n",
            "Data columns (total 26 columns):\n",
            " #   Column        Non-Null Count  Dtype  \n",
            "---  ------        --------------  -----  \n",
            " 0   Unnamed: 0    3001 non-null   int64  \n",
            " 1   id            3001 non-null   int64  \n",
            " 2   url           3001 non-null   object \n",
            " 3   region        3001 non-null   object \n",
            " 4   region_url    3001 non-null   object \n",
            " 5   price         3001 non-null   int64  \n",
            " 6   year          2978 non-null   float64\n",
            " 7   manufacturer  2837 non-null   object \n",
            " 8   model         2985 non-null   object \n",
            " 9   condition     1649 non-null   object \n",
            " 10  cylinders     1861 non-null   object \n",
            " 11  fuel          2962 non-null   object \n",
            " 12  odometer      2359 non-null   float64\n",
            " 13  title_status  2889 non-null   object \n",
            " 14  transmission  2999 non-null   object \n",
            " 15  VIN           1646 non-null   object \n",
            " 16  drive         1947 non-null   object \n",
            " 17  size          821 non-null    object \n",
            " 18  type          1813 non-null   object \n",
            " 19  paint_color   2177 non-null   object \n",
            " 20  image_url     3001 non-null   object \n",
            " 21  description   3001 non-null   object \n",
            " 22  state         3001 non-null   object \n",
            " 23  lat           2976 non-null   float64\n",
            " 24  long          2976 non-null   float64\n",
            " 25  posting_date  3001 non-null   object \n",
            "dtypes: float64(4), int64(3), object(19)\n",
            "memory usage: 609.7+ KB\n"
          ],
          "name": "stdout"
        }
      ]
    },
    {
      "cell_type": "code",
      "metadata": {
        "colab": {
          "base_uri": "https://localhost:8080/",
          "height": 534
        },
        "id": "rxWgWhZzYGQZ",
        "outputId": "4e2214a5-94da-4350-a8f1-c4fcbe5d6de4"
      },
      "source": [
        "df.head()"
      ],
      "execution_count": null,
      "outputs": [
        {
          "output_type": "execute_result",
          "data": {
            "text/html": [
              "<div>\n",
              "<style scoped>\n",
              "    .dataframe tbody tr th:only-of-type {\n",
              "        vertical-align: middle;\n",
              "    }\n",
              "\n",
              "    .dataframe tbody tr th {\n",
              "        vertical-align: top;\n",
              "    }\n",
              "\n",
              "    .dataframe thead th {\n",
              "        text-align: right;\n",
              "    }\n",
              "</style>\n",
              "<table border=\"1\" class=\"dataframe\">\n",
              "  <thead>\n",
              "    <tr style=\"text-align: right;\">\n",
              "      <th></th>\n",
              "      <th>Unnamed: 0</th>\n",
              "      <th>id</th>\n",
              "      <th>url</th>\n",
              "      <th>region</th>\n",
              "      <th>region_url</th>\n",
              "      <th>price</th>\n",
              "      <th>year</th>\n",
              "      <th>manufacturer</th>\n",
              "      <th>model</th>\n",
              "      <th>condition</th>\n",
              "      <th>cylinders</th>\n",
              "      <th>fuel</th>\n",
              "      <th>odometer</th>\n",
              "      <th>title_status</th>\n",
              "      <th>transmission</th>\n",
              "      <th>VIN</th>\n",
              "      <th>drive</th>\n",
              "      <th>size</th>\n",
              "      <th>type</th>\n",
              "      <th>paint_color</th>\n",
              "      <th>image_url</th>\n",
              "      <th>description</th>\n",
              "      <th>state</th>\n",
              "      <th>lat</th>\n",
              "      <th>long</th>\n",
              "      <th>posting_date</th>\n",
              "    </tr>\n",
              "  </thead>\n",
              "  <tbody>\n",
              "    <tr>\n",
              "      <th>0</th>\n",
              "      <td>0</td>\n",
              "      <td>7240372487</td>\n",
              "      <td>https://auburn.craigslist.org/ctd/d/auburn-uni...</td>\n",
              "      <td>auburn</td>\n",
              "      <td>https://auburn.craigslist.org</td>\n",
              "      <td>35990</td>\n",
              "      <td>2010.0</td>\n",
              "      <td>chevrolet</td>\n",
              "      <td>corvette grand sport</td>\n",
              "      <td>good</td>\n",
              "      <td>8 cylinders</td>\n",
              "      <td>gas</td>\n",
              "      <td>32742.0</td>\n",
              "      <td>clean</td>\n",
              "      <td>other</td>\n",
              "      <td>1G1YU3DW1A5106980</td>\n",
              "      <td>rwd</td>\n",
              "      <td>NaN</td>\n",
              "      <td>other</td>\n",
              "      <td>NaN</td>\n",
              "      <td>https://images.craigslist.org/00N0N_ipkbHVZYf4...</td>\n",
              "      <td>Carvana is the safer way to buy a car During t...</td>\n",
              "      <td>al</td>\n",
              "      <td>32.590000</td>\n",
              "      <td>-85.480000</td>\n",
              "      <td>2020-12-02T08:11:30-0600</td>\n",
              "    </tr>\n",
              "    <tr>\n",
              "      <th>1</th>\n",
              "      <td>1</td>\n",
              "      <td>7240309422</td>\n",
              "      <td>https://auburn.craigslist.org/cto/d/auburn-201...</td>\n",
              "      <td>auburn</td>\n",
              "      <td>https://auburn.craigslist.org</td>\n",
              "      <td>7500</td>\n",
              "      <td>2014.0</td>\n",
              "      <td>hyundai</td>\n",
              "      <td>sonata</td>\n",
              "      <td>excellent</td>\n",
              "      <td>4 cylinders</td>\n",
              "      <td>gas</td>\n",
              "      <td>93600.0</td>\n",
              "      <td>clean</td>\n",
              "      <td>automatic</td>\n",
              "      <td>5NPEC4AB0EH813529</td>\n",
              "      <td>fwd</td>\n",
              "      <td>NaN</td>\n",
              "      <td>sedan</td>\n",
              "      <td>NaN</td>\n",
              "      <td>https://images.craigslist.org/00s0s_gBHYmJ5o7y...</td>\n",
              "      <td>I'll move to another city and try to sell my c...</td>\n",
              "      <td>al</td>\n",
              "      <td>32.547500</td>\n",
              "      <td>-85.468200</td>\n",
              "      <td>2020-12-02T02:11:50-0600</td>\n",
              "    </tr>\n",
              "    <tr>\n",
              "      <th>2</th>\n",
              "      <td>2</td>\n",
              "      <td>7240224296</td>\n",
              "      <td>https://auburn.craigslist.org/cto/d/auburn-200...</td>\n",
              "      <td>auburn</td>\n",
              "      <td>https://auburn.craigslist.org</td>\n",
              "      <td>4900</td>\n",
              "      <td>2006.0</td>\n",
              "      <td>bmw</td>\n",
              "      <td>x3 3.0i</td>\n",
              "      <td>good</td>\n",
              "      <td>6 cylinders</td>\n",
              "      <td>gas</td>\n",
              "      <td>87046.0</td>\n",
              "      <td>clean</td>\n",
              "      <td>automatic</td>\n",
              "      <td>NaN</td>\n",
              "      <td>NaN</td>\n",
              "      <td>NaN</td>\n",
              "      <td>SUV</td>\n",
              "      <td>blue</td>\n",
              "      <td>https://images.craigslist.org/00B0B_5zgEGWPOrt...</td>\n",
              "      <td>Clean 2006 BMW X3 3.0I.  Beautiful and rare Bl...</td>\n",
              "      <td>al</td>\n",
              "      <td>32.616807</td>\n",
              "      <td>-85.464149</td>\n",
              "      <td>2020-12-01T19:50:41-0600</td>\n",
              "    </tr>\n",
              "    <tr>\n",
              "      <th>3</th>\n",
              "      <td>3</td>\n",
              "      <td>7240103965</td>\n",
              "      <td>https://auburn.craigslist.org/cto/d/lanett-tru...</td>\n",
              "      <td>auburn</td>\n",
              "      <td>https://auburn.craigslist.org</td>\n",
              "      <td>2000</td>\n",
              "      <td>1974.0</td>\n",
              "      <td>chevrolet</td>\n",
              "      <td>c-10</td>\n",
              "      <td>good</td>\n",
              "      <td>4 cylinders</td>\n",
              "      <td>gas</td>\n",
              "      <td>190000.0</td>\n",
              "      <td>clean</td>\n",
              "      <td>automatic</td>\n",
              "      <td>NaN</td>\n",
              "      <td>rwd</td>\n",
              "      <td>full-size</td>\n",
              "      <td>pickup</td>\n",
              "      <td>blue</td>\n",
              "      <td>https://images.craigslist.org/00M0M_6o7KcDpArw...</td>\n",
              "      <td>1974 chev. truck (LONG BED) NEW starter front ...</td>\n",
              "      <td>al</td>\n",
              "      <td>32.861600</td>\n",
              "      <td>-85.216100</td>\n",
              "      <td>2020-12-01T15:54:45-0600</td>\n",
              "    </tr>\n",
              "    <tr>\n",
              "      <th>4</th>\n",
              "      <td>4</td>\n",
              "      <td>7239983776</td>\n",
              "      <td>https://auburn.craigslist.org/cto/d/auburn-200...</td>\n",
              "      <td>auburn</td>\n",
              "      <td>https://auburn.craigslist.org</td>\n",
              "      <td>19500</td>\n",
              "      <td>2005.0</td>\n",
              "      <td>ford</td>\n",
              "      <td>f350 lariat</td>\n",
              "      <td>excellent</td>\n",
              "      <td>8 cylinders</td>\n",
              "      <td>diesel</td>\n",
              "      <td>116000.0</td>\n",
              "      <td>lien</td>\n",
              "      <td>automatic</td>\n",
              "      <td>NaN</td>\n",
              "      <td>4wd</td>\n",
              "      <td>full-size</td>\n",
              "      <td>pickup</td>\n",
              "      <td>blue</td>\n",
              "      <td>https://images.craigslist.org/00p0p_b95l1EgUfl...</td>\n",
              "      <td>2005 Ford F350 Lariat (Bullet Proofed). This t...</td>\n",
              "      <td>al</td>\n",
              "      <td>32.547500</td>\n",
              "      <td>-85.468200</td>\n",
              "      <td>2020-12-01T12:53:56-0600</td>\n",
              "    </tr>\n",
              "  </tbody>\n",
              "</table>\n",
              "</div>"
            ],
            "text/plain": [
              "   Unnamed: 0          id  ...       long              posting_date\n",
              "0           0  7240372487  ... -85.480000  2020-12-02T08:11:30-0600\n",
              "1           1  7240309422  ... -85.468200  2020-12-02T02:11:50-0600\n",
              "2           2  7240224296  ... -85.464149  2020-12-01T19:50:41-0600\n",
              "3           3  7240103965  ... -85.216100  2020-12-01T15:54:45-0600\n",
              "4           4  7239983776  ... -85.468200  2020-12-01T12:53:56-0600\n",
              "\n",
              "[5 rows x 26 columns]"
            ]
          },
          "metadata": {
            "tags": []
          },
          "execution_count": 5
        }
      ]
    },
    {
      "cell_type": "code",
      "metadata": {
        "colab": {
          "base_uri": "https://localhost:8080/"
        },
        "id": "beIQgTSZBznC",
        "outputId": "3fca3819-dd1d-4e6e-a106-a4fe259cd91c"
      },
      "source": [
        "#Total number of rows and columns\n",
        "df.shape"
      ],
      "execution_count": null,
      "outputs": [
        {
          "output_type": "execute_result",
          "data": {
            "text/plain": [
              "(3001, 26)"
            ]
          },
          "metadata": {
            "tags": []
          },
          "execution_count": 6
        }
      ]
    },
    {
      "cell_type": "code",
      "metadata": {
        "colab": {
          "base_uri": "https://localhost:8080/"
        },
        "id": "FQZumv1aBznD",
        "outputId": "0a3649b1-ed08-4b86-e7c5-30eb8e95f648"
      },
      "source": [
        "#Column names\n",
        "df.columns"
      ],
      "execution_count": null,
      "outputs": [
        {
          "output_type": "execute_result",
          "data": {
            "text/plain": [
              "Index(['Unnamed: 0', 'id', 'url', 'region', 'region_url', 'price', 'year',\n",
              "       'manufacturer', 'model', 'condition', 'cylinders', 'fuel', 'odometer',\n",
              "       'title_status', 'transmission', 'VIN', 'drive', 'size', 'type',\n",
              "       'paint_color', 'image_url', 'description', 'state', 'lat', 'long',\n",
              "       'posting_date'],\n",
              "      dtype='object')"
            ]
          },
          "metadata": {
            "tags": []
          },
          "execution_count": 7
        }
      ]
    },
    {
      "cell_type": "code",
      "metadata": {
        "colab": {
          "base_uri": "https://localhost:8080/",
          "height": 400
        },
        "id": "osGWeuDIBznD",
        "outputId": "660135fd-a73a-4379-bd60-addd6dfaaafc"
      },
      "source": [
        "# Now from the above output we can see that there are few irrelevant attributes, so we can remove those variables\n",
        "df=df.drop(columns=['url','region_url','VIN','image_url','description','state'])\n",
        "df.head()"
      ],
      "execution_count": null,
      "outputs": [
        {
          "output_type": "execute_result",
          "data": {
            "text/html": [
              "<div>\n",
              "<style scoped>\n",
              "    .dataframe tbody tr th:only-of-type {\n",
              "        vertical-align: middle;\n",
              "    }\n",
              "\n",
              "    .dataframe tbody tr th {\n",
              "        vertical-align: top;\n",
              "    }\n",
              "\n",
              "    .dataframe thead th {\n",
              "        text-align: right;\n",
              "    }\n",
              "</style>\n",
              "<table border=\"1\" class=\"dataframe\">\n",
              "  <thead>\n",
              "    <tr style=\"text-align: right;\">\n",
              "      <th></th>\n",
              "      <th>Unnamed: 0</th>\n",
              "      <th>id</th>\n",
              "      <th>region</th>\n",
              "      <th>price</th>\n",
              "      <th>year</th>\n",
              "      <th>manufacturer</th>\n",
              "      <th>model</th>\n",
              "      <th>condition</th>\n",
              "      <th>cylinders</th>\n",
              "      <th>fuel</th>\n",
              "      <th>odometer</th>\n",
              "      <th>title_status</th>\n",
              "      <th>transmission</th>\n",
              "      <th>drive</th>\n",
              "      <th>size</th>\n",
              "      <th>type</th>\n",
              "      <th>paint_color</th>\n",
              "      <th>lat</th>\n",
              "      <th>long</th>\n",
              "      <th>posting_date</th>\n",
              "    </tr>\n",
              "  </thead>\n",
              "  <tbody>\n",
              "    <tr>\n",
              "      <th>0</th>\n",
              "      <td>0</td>\n",
              "      <td>7240372487</td>\n",
              "      <td>auburn</td>\n",
              "      <td>35990</td>\n",
              "      <td>2010.0</td>\n",
              "      <td>chevrolet</td>\n",
              "      <td>corvette grand sport</td>\n",
              "      <td>good</td>\n",
              "      <td>8 cylinders</td>\n",
              "      <td>gas</td>\n",
              "      <td>32742.0</td>\n",
              "      <td>clean</td>\n",
              "      <td>other</td>\n",
              "      <td>rwd</td>\n",
              "      <td>NaN</td>\n",
              "      <td>other</td>\n",
              "      <td>NaN</td>\n",
              "      <td>32.590000</td>\n",
              "      <td>-85.480000</td>\n",
              "      <td>2020-12-02T08:11:30-0600</td>\n",
              "    </tr>\n",
              "    <tr>\n",
              "      <th>1</th>\n",
              "      <td>1</td>\n",
              "      <td>7240309422</td>\n",
              "      <td>auburn</td>\n",
              "      <td>7500</td>\n",
              "      <td>2014.0</td>\n",
              "      <td>hyundai</td>\n",
              "      <td>sonata</td>\n",
              "      <td>excellent</td>\n",
              "      <td>4 cylinders</td>\n",
              "      <td>gas</td>\n",
              "      <td>93600.0</td>\n",
              "      <td>clean</td>\n",
              "      <td>automatic</td>\n",
              "      <td>fwd</td>\n",
              "      <td>NaN</td>\n",
              "      <td>sedan</td>\n",
              "      <td>NaN</td>\n",
              "      <td>32.547500</td>\n",
              "      <td>-85.468200</td>\n",
              "      <td>2020-12-02T02:11:50-0600</td>\n",
              "    </tr>\n",
              "    <tr>\n",
              "      <th>2</th>\n",
              "      <td>2</td>\n",
              "      <td>7240224296</td>\n",
              "      <td>auburn</td>\n",
              "      <td>4900</td>\n",
              "      <td>2006.0</td>\n",
              "      <td>bmw</td>\n",
              "      <td>x3 3.0i</td>\n",
              "      <td>good</td>\n",
              "      <td>6 cylinders</td>\n",
              "      <td>gas</td>\n",
              "      <td>87046.0</td>\n",
              "      <td>clean</td>\n",
              "      <td>automatic</td>\n",
              "      <td>NaN</td>\n",
              "      <td>NaN</td>\n",
              "      <td>SUV</td>\n",
              "      <td>blue</td>\n",
              "      <td>32.616807</td>\n",
              "      <td>-85.464149</td>\n",
              "      <td>2020-12-01T19:50:41-0600</td>\n",
              "    </tr>\n",
              "    <tr>\n",
              "      <th>3</th>\n",
              "      <td>3</td>\n",
              "      <td>7240103965</td>\n",
              "      <td>auburn</td>\n",
              "      <td>2000</td>\n",
              "      <td>1974.0</td>\n",
              "      <td>chevrolet</td>\n",
              "      <td>c-10</td>\n",
              "      <td>good</td>\n",
              "      <td>4 cylinders</td>\n",
              "      <td>gas</td>\n",
              "      <td>190000.0</td>\n",
              "      <td>clean</td>\n",
              "      <td>automatic</td>\n",
              "      <td>rwd</td>\n",
              "      <td>full-size</td>\n",
              "      <td>pickup</td>\n",
              "      <td>blue</td>\n",
              "      <td>32.861600</td>\n",
              "      <td>-85.216100</td>\n",
              "      <td>2020-12-01T15:54:45-0600</td>\n",
              "    </tr>\n",
              "    <tr>\n",
              "      <th>4</th>\n",
              "      <td>4</td>\n",
              "      <td>7239983776</td>\n",
              "      <td>auburn</td>\n",
              "      <td>19500</td>\n",
              "      <td>2005.0</td>\n",
              "      <td>ford</td>\n",
              "      <td>f350 lariat</td>\n",
              "      <td>excellent</td>\n",
              "      <td>8 cylinders</td>\n",
              "      <td>diesel</td>\n",
              "      <td>116000.0</td>\n",
              "      <td>lien</td>\n",
              "      <td>automatic</td>\n",
              "      <td>4wd</td>\n",
              "      <td>full-size</td>\n",
              "      <td>pickup</td>\n",
              "      <td>blue</td>\n",
              "      <td>32.547500</td>\n",
              "      <td>-85.468200</td>\n",
              "      <td>2020-12-01T12:53:56-0600</td>\n",
              "    </tr>\n",
              "  </tbody>\n",
              "</table>\n",
              "</div>"
            ],
            "text/plain": [
              "   Unnamed: 0          id  ...       long              posting_date\n",
              "0           0  7240372487  ... -85.480000  2020-12-02T08:11:30-0600\n",
              "1           1  7240309422  ... -85.468200  2020-12-02T02:11:50-0600\n",
              "2           2  7240224296  ... -85.464149  2020-12-01T19:50:41-0600\n",
              "3           3  7240103965  ... -85.216100  2020-12-01T15:54:45-0600\n",
              "4           4  7239983776  ... -85.468200  2020-12-01T12:53:56-0600\n",
              "\n",
              "[5 rows x 20 columns]"
            ]
          },
          "metadata": {
            "tags": []
          },
          "execution_count": 8
        }
      ]
    },
    {
      "cell_type": "code",
      "metadata": {
        "colab": {
          "base_uri": "https://localhost:8080/"
        },
        "id": "C7ThrN8ABznE",
        "outputId": "059fab4d-3d28-45c6-aa66-4ee11985c470"
      },
      "source": [
        "#return series of columns with respective of number of null values\n",
        "\n",
        "missing_values = df.isnull().sum()\n",
        "missing_values"
      ],
      "execution_count": null,
      "outputs": [
        {
          "output_type": "execute_result",
          "data": {
            "text/plain": [
              "Unnamed: 0         0\n",
              "id                 0\n",
              "region             0\n",
              "price              0\n",
              "year              23\n",
              "manufacturer     164\n",
              "model             16\n",
              "condition       1352\n",
              "cylinders       1140\n",
              "fuel              39\n",
              "odometer         642\n",
              "title_status     112\n",
              "transmission       2\n",
              "drive           1054\n",
              "size            2180\n",
              "type            1188\n",
              "paint_color      824\n",
              "lat               25\n",
              "long              25\n",
              "posting_date       0\n",
              "dtype: int64"
            ]
          },
          "metadata": {
            "tags": []
          },
          "execution_count": 9
        }
      ]
    },
    {
      "cell_type": "code",
      "metadata": {
        "colab": {
          "base_uri": "https://localhost:8080/",
          "height": 284
        },
        "id": "Bk4Z0jM3Zi8p",
        "outputId": "a171e1d8-aebe-4347-d935-5baaf534c5e9"
      },
      "source": [
        "df.describe()"
      ],
      "execution_count": null,
      "outputs": [
        {
          "output_type": "execute_result",
          "data": {
            "text/html": [
              "<div>\n",
              "<style scoped>\n",
              "    .dataframe tbody tr th:only-of-type {\n",
              "        vertical-align: middle;\n",
              "    }\n",
              "\n",
              "    .dataframe tbody tr th {\n",
              "        vertical-align: top;\n",
              "    }\n",
              "\n",
              "    .dataframe thead th {\n",
              "        text-align: right;\n",
              "    }\n",
              "</style>\n",
              "<table border=\"1\" class=\"dataframe\">\n",
              "  <thead>\n",
              "    <tr style=\"text-align: right;\">\n",
              "      <th></th>\n",
              "      <th>Unnamed: 0</th>\n",
              "      <th>id</th>\n",
              "      <th>price</th>\n",
              "      <th>year</th>\n",
              "      <th>odometer</th>\n",
              "      <th>lat</th>\n",
              "      <th>long</th>\n",
              "    </tr>\n",
              "  </thead>\n",
              "  <tbody>\n",
              "    <tr>\n",
              "      <th>count</th>\n",
              "      <td>3001.000000</td>\n",
              "      <td>3.001000e+03</td>\n",
              "      <td>3.001000e+03</td>\n",
              "      <td>2978.000000</td>\n",
              "      <td>2359.000000</td>\n",
              "      <td>2976.000000</td>\n",
              "      <td>2976.000000</td>\n",
              "    </tr>\n",
              "    <tr>\n",
              "      <th>mean</th>\n",
              "      <td>1500.000000</td>\n",
              "      <td>7.233318e+09</td>\n",
              "      <td>4.281193e+05</td>\n",
              "      <td>2010.569510</td>\n",
              "      <td>100576.441713</td>\n",
              "      <td>33.721421</td>\n",
              "      <td>-86.474273</td>\n",
              "    </tr>\n",
              "    <tr>\n",
              "      <th>std</th>\n",
              "      <td>866.458404</td>\n",
              "      <td>4.709277e+06</td>\n",
              "      <td>2.253597e+07</td>\n",
              "      <td>8.940705</td>\n",
              "      <td>74561.991274</td>\n",
              "      <td>2.237282</td>\n",
              "      <td>4.994028</td>\n",
              "    </tr>\n",
              "    <tr>\n",
              "      <th>min</th>\n",
              "      <td>0.000000</td>\n",
              "      <td>7.224695e+09</td>\n",
              "      <td>0.000000e+00</td>\n",
              "      <td>1911.000000</td>\n",
              "      <td>0.000000</td>\n",
              "      <td>1.241841</td>\n",
              "      <td>-122.509472</td>\n",
              "    </tr>\n",
              "    <tr>\n",
              "      <th>25%</th>\n",
              "      <td>750.000000</td>\n",
              "      <td>7.229276e+09</td>\n",
              "      <td>5.900000e+03</td>\n",
              "      <td>2007.000000</td>\n",
              "      <td>40570.000000</td>\n",
              "      <td>33.209680</td>\n",
              "      <td>-86.834600</td>\n",
              "    </tr>\n",
              "    <tr>\n",
              "      <th>50%</th>\n",
              "      <td>1500.000000</td>\n",
              "      <td>7.233563e+09</td>\n",
              "      <td>1.390000e+04</td>\n",
              "      <td>2012.000000</td>\n",
              "      <td>93374.000000</td>\n",
              "      <td>33.520000</td>\n",
              "      <td>-86.719891</td>\n",
              "    </tr>\n",
              "    <tr>\n",
              "      <th>75%</th>\n",
              "      <td>2250.000000</td>\n",
              "      <td>7.237277e+09</td>\n",
              "      <td>2.589800e+04</td>\n",
              "      <td>2016.000000</td>\n",
              "      <td>149124.500000</td>\n",
              "      <td>34.265050</td>\n",
              "      <td>-85.643600</td>\n",
              "    </tr>\n",
              "    <tr>\n",
              "      <th>max</th>\n",
              "      <td>3000.000000</td>\n",
              "      <td>7.240649e+09</td>\n",
              "      <td>1.234568e+09</td>\n",
              "      <td>2020.000000</td>\n",
              "      <td>1000000.000000</td>\n",
              "      <td>48.432675</td>\n",
              "      <td>-74.281734</td>\n",
              "    </tr>\n",
              "  </tbody>\n",
              "</table>\n",
              "</div>"
            ],
            "text/plain": [
              "        Unnamed: 0            id  ...          lat         long\n",
              "count  3001.000000  3.001000e+03  ...  2976.000000  2976.000000\n",
              "mean   1500.000000  7.233318e+09  ...    33.721421   -86.474273\n",
              "std     866.458404  4.709277e+06  ...     2.237282     4.994028\n",
              "min       0.000000  7.224695e+09  ...     1.241841  -122.509472\n",
              "25%     750.000000  7.229276e+09  ...    33.209680   -86.834600\n",
              "50%    1500.000000  7.233563e+09  ...    33.520000   -86.719891\n",
              "75%    2250.000000  7.237277e+09  ...    34.265050   -85.643600\n",
              "max    3000.000000  7.240649e+09  ...    48.432675   -74.281734\n",
              "\n",
              "[8 rows x 7 columns]"
            ]
          },
          "metadata": {
            "tags": []
          },
          "execution_count": 10
        }
      ]
    },
    {
      "cell_type": "code",
      "metadata": {
        "id": "g81y3p1fZ-kO"
      },
      "source": [
        "#Removing the null values from the dataset\n",
        "df = df.dropna()"
      ],
      "execution_count": null,
      "outputs": []
    },
    {
      "cell_type": "code",
      "metadata": {
        "colab": {
          "base_uri": "https://localhost:8080/"
        },
        "id": "loADJK6laCoX",
        "outputId": "90505007-4dba-4c32-f57f-29a91f4e6385"
      },
      "source": [
        "#Checking the missing values again\n",
        "df.isnull().sum()"
      ],
      "execution_count": null,
      "outputs": [
        {
          "output_type": "execute_result",
          "data": {
            "text/plain": [
              "Unnamed: 0      0\n",
              "id              0\n",
              "region          0\n",
              "price           0\n",
              "year            0\n",
              "manufacturer    0\n",
              "model           0\n",
              "condition       0\n",
              "cylinders       0\n",
              "fuel            0\n",
              "odometer        0\n",
              "title_status    0\n",
              "transmission    0\n",
              "drive           0\n",
              "size            0\n",
              "type            0\n",
              "paint_color     0\n",
              "lat             0\n",
              "long            0\n",
              "posting_date    0\n",
              "dtype: int64"
            ]
          },
          "metadata": {
            "tags": []
          },
          "execution_count": 17
        }
      ]
    },
    {
      "cell_type": "code",
      "metadata": {
        "id": "eZX_wnY6BznE"
      },
      "source": [
        "#define numeric variable and categorical variable to work separatly on them\n",
        "num_cols=['year','odometer','lat','long']\n",
        "cat_cols = ['region','manufacturer','model','condition','cylinders','fuel','title_status','transmission','drive','size','type','paint_color']"
      ],
      "execution_count": null,
      "outputs": []
    },
    {
      "cell_type": "code",
      "metadata": {
        "colab": {
          "base_uri": "https://localhost:8080/"
        },
        "id": "CAJVXu9Dfocc",
        "outputId": "5c933f85-8828-4017-def5-7827871b3b30"
      },
      "source": [
        "cat_cols = ['region','manufacturer','model','condition','cylinders','fuel','title_status','transmission','drive','size','type','paint_color']\n",
        "\n",
        "for col in cat_cols:\n",
        "    print ([col],\" : \", df[col].unique())"
      ],
      "execution_count": null,
      "outputs": [
        {
          "output_type": "stream",
          "text": [
            "['region']  :  ['auburn' 'birmingham' 'dothan' 'florence / muscle shoals'\n",
            " 'gadsden-anniston' 'huntsville / decatur']\n",
            "['manufacturer']  :  ['chevrolet' 'ford' 'jeep' 'mercedes-benz' 'gmc' 'bmw' 'honda' 'nissan'\n",
            " 'kia' 'ram' 'mitsubishi' 'hyundai' 'toyota' 'mazda' 'dodge' 'audi'\n",
            " 'infiniti' 'lexus' 'volkswagen' 'cadillac' 'pontiac' 'subaru' 'chrysler'\n",
            " 'fiat' 'rover' 'mini' 'mercury' 'buick' 'tesla' 'lincoln' 'jaguar']\n",
            "['model']  :  ['c-10' 'f350 lariat' 'expedition' 'gladiator' 'fusion sel'\n",
            " 'wrangler unlimited' 'benz c300 4matic' 'wrangler' 'sierra 3500'\n",
            " 'silverado 3500hd' 'traverse ls' 'express 3500 15 pass' 'f150 xlt'\n",
            " '325ci' 'accord exl' 'altima sl' 'yukon' 'f-150 xl' 'titan sv' 'forte'\n",
            " 'terrain' 'super duty f-550 drw' '3500' '5500' 'fuso fe180'\n",
            " 'express commercial cutaway' 'f-750' 'express cargo van' 'cc4500'\n",
            " 'super duty f-650 straight frame' 'colorado lt crew cab' 'altima 2.5 sl'\n",
            " 'tucson se' 'cr-v se' 'corolla' 'civic' '300zx coupe with t-tops'\n",
            " 'camry le' 'mustang' '1500 sierra denali' 'f-150'\n",
            " 'civic type r hatcheback' 'f150 supercrew cab harrley'\n",
            " 'sierra 1500 classic' 'promaster cargo van' '3' 'avenger' 'impala'\n",
            " 'camry' 'express 1500 cargo van' 'odyssey' 'focus se'\n",
            " 'prius prime premium' 'thunderbird' 'murano' 'explorer 4wd'\n",
            " 'camry se 4dr sedan' 'sierra 1500 xlt' 'fusion se' 'explorer'\n",
            " 'sierra 1500' 'super duty f-250 srw' 'excursion' 'odyssey ex'\n",
            " 'q8 prestige' 'pilot 4wd' 'q60 sport' 'es 300' 'five hundred sel'\n",
            " 'intrepid' 'tahoe' 'rav4' 'gx 460' 'fj cruiser' 'tundra' 'tacoma'\n",
            " '1-series' 'silverado 1500' 'dakota' 'avalanche' 'z4' '4runner' 'element'\n",
            " 'highlander' 'pilot' 'mx-5 miata' 'transit' 'escape' 'truck' 'xterra'\n",
            " 'rogue' '1500' 'econoline e250' 'corvette' 'cabriolet convertible'\n",
            " 'sl-class' 'crv ex' 'patriot' 'sonata' 'e250 cargo van'\n",
            " 'silverado 1500 lt 4x4' 'f350 crew cab 4x4' 'wrangler unlimited sahara'\n",
            " 'ls 400' 'civic lx sedan' '1500 crew cab laramie' 'f-150 supercab xlt'\n",
            " 'silverado 3500' 'express g3500' '135i' 'escalade' 'grand am se'\n",
            " 'genesis coupe 2.0 turbo' 'civic lx' 'corolla le' 'odyssey exl' 'gx 470'\n",
            " 'jetta' 'sienna' 'camaro' 'millenia' '325is' 'sorento lx awd' '330i'\n",
            " 'yukon xl' 'super duty f-350 drw' 'savana cargo van' 'f-350 sd'\n",
            " 'econoline cargo van' 'super duty f-450 drw' '135i convertible' 'altima'\n",
            " 'impreza sport' 'taurus sho awd' 'prius v hybrid' 'pilot exl'\n",
            " 'civic ex coupe' 'transit t-350 xlt' 'land cruiser' 'rogue sv' 'edge sel'\n",
            " '300' 'cls-class' 'explorer limited' 'wrangler unlimited rubicon'\n",
            " 'avalon xle' 'ridgeline' 'accord se sedan' 'prius c' 'is 250'\n",
            " 'titan pro-4x' 'accord crosstour exl' 'titan se' '500l lounge'\n",
            " 'liberty sport 4x4' 'genesis coupe' 'f-250 xlt' 'benz sl500'\n",
            " 'acadia limited' 'santa fe' 'grand caravan' 'hr-v' 'frontier' 'commander'\n",
            " 'lr2' '2500' 'brothers' 'cube' 'challenger' 'grand cherokee'\n",
            " 'odyssey ex-l' 'magnum sxt' 'armada' 'qx56' 'hs250' 'mustang convertible'\n",
            " 'rogue sl' 'mustang gt convertible' 'corolla xle' 'explorer xlt' 'g6'\n",
            " 'taurus sel' 'cadenza premium sedan 4d' 'corvette stingray 1lt'\n",
            " 'sprinter 2500' 'cooper' 'monte carlo ss' 'focus' 'caliente' 'envoy'\n",
            " 'f-450 sd' '325i' 'silverado 2500 hd' 'avalon hybrid limited'\n",
            " 'silverado 1500 ltz 4x4' 'wrangler unlimited sport' 'yaris' '626'\n",
            " 'accord ex' 'f-250 sd' 'silverado classic 2500hd' 'silverado 1500 ls 4dr'\n",
            " 'accord crosstour ex-l' 'pathfinder sv' 'f350 super duty' 'soul'\n",
            " '2500hd denali' 'f-550' 'econoline' 'f-250 super duty' 'x3 xdrive30i'\n",
            " 'acadia slt-1' 'elantra touring gls' 'versa sv' '1500 4x4 truck'\n",
            " 'crv exl' 'colorado' 'accord ex-l' 'mustang gt premium' 'camry hybrid'\n",
            " 'highlander xle' 'ranier' 'sonic' 'cx-9 touring' 'f150' 'five hundred'\n",
            " 'vibe' 'expedition el limited' 'f750' 'accord' 'q7 3.6 premium quattro'\n",
            " '3-series' '1500 laramie' 'a6' 'passat tdi se' 'gl450' 'elantra se'\n",
            " 'suburban' '150' 'patriot sport se 4dr suv' 'liberty renegade 4x4'\n",
            " 'highlander limited' 'grand cherokee limited' 'fit sport' 'silverado'\n",
            " 'sonata limited' 'camry xle sedan 4d' 'hhr panel'\n",
            " 'accent se 4dr hatchback' 'cherokee' 'malibu lt' 'escalade esv' 'rio s'\n",
            " 'liberty' 'journey r/t' 'yukon denali' 'cooper hardtop' 'benz glk 350'\n",
            " 'glk 350 4matic' 'optima sxl turbo' 'mod 3' 'crew cab' 'cr-v lx'\n",
            " 'cruze ltz rs' 'bel air' 'pathfinder' 'blazer' 'trailblazer' 'sable gs'\n",
            " 'cooper countryman s' 'tundra sr5' 'f-250' 'yukon slt 4x4' 'sedona ex'\n",
            " 'equinox lt' 'pathfinder sl' 'charger' 'altima 2.5 s'\n",
            " 'sonata limited 2.0t' 'navigator limited 4x4' '200 s' '4 runner limited'\n",
            " 'regal limited' 'f150 platinum 4x4' 'equinox ltz' 'cr-v' 's-type'\n",
            " 'town country' 'e150 cargo van' 'expedition xlt' 'silverado z71'\n",
            " 'transit connect cargo van' 'genesis' 'edge limited' 'acadia slt awd'\n",
            " 'escape se' 'sonic lt' 'crv' 'sierra 2500' 'terrain sle' 'highlander 4x4'\n",
            " 'aspen limited' 'cooper s' 'versa' '2500 4x4' 'crossfire' 'cavalier'\n",
            " 'cruze' 'f250' 'pilot touring' 'town car' 'durango' 'ls 460' 'crosstour'\n",
            " 'edge' '528i sedan' 'i3 range extender' 'lacrosse avenir' 'g37'\n",
            " 'thunderbird deluxe' 'altima 2.5' 'sierra' 'tucson']\n",
            "['condition']  :  ['good' 'excellent' 'like new' 'salvage' 'new' 'fair']\n",
            "['cylinders']  :  ['4 cylinders' '8 cylinders' '6 cylinders' '10 cylinders' '3 cylinders'\n",
            " 'other' '5 cylinders']\n",
            "['fuel']  :  ['gas' 'diesel' 'hybrid' 'electric']\n",
            "['title_status']  :  ['clean' 'lien' 'rebuilt' 'parts only' 'missing']\n",
            "['transmission']  :  ['automatic' 'manual' 'other']\n",
            "['drive']  :  ['rwd' '4wd' 'fwd']\n",
            "['size']  :  ['full-size' 'mid-size' 'compact' 'sub-compact']\n",
            "['type']  :  ['pickup' 'SUV' 'sedan' 'truck' 'van' 'convertible' 'hatchback' 'coupe'\n",
            " 'mini-van' 'wagon' 'other' 'offroad']\n",
            "['paint_color']  :  ['blue' 'grey' 'silver' 'white' 'red' 'black' 'custom' 'brown' 'green'\n",
            " 'yellow' 'orange' 'purple']\n"
          ],
          "name": "stdout"
        }
      ]
    },
    {
      "cell_type": "code",
      "metadata": {
        "colab": {
          "base_uri": "https://localhost:8080/"
        },
        "id": "sUc8IXzCBznF",
        "outputId": "5a4b712e-d39c-4f50-9caf-c59ddb2617fe"
      },
      "source": [
        "# To check how many unique values are there in the dataset\n",
        "df.nunique(axis=0)"
      ],
      "execution_count": null,
      "outputs": [
        {
          "output_type": "execute_result",
          "data": {
            "text/plain": [
              "Unnamed: 0      573\n",
              "id              573\n",
              "region            6\n",
              "price           303\n",
              "year             36\n",
              "manufacturer     31\n",
              "model           323\n",
              "condition         6\n",
              "cylinders         7\n",
              "fuel              4\n",
              "odometer        483\n",
              "title_status      5\n",
              "transmission      3\n",
              "drive             3\n",
              "size              4\n",
              "type             12\n",
              "paint_color      12\n",
              "lat             217\n",
              "long            218\n",
              "posting_date    571\n",
              "dtype: int64"
            ]
          },
          "metadata": {
            "tags": []
          },
          "execution_count": 22
        }
      ]
    },
    {
      "cell_type": "code",
      "metadata": {
        "id": "AZnN2N-BBznF",
        "colab": {
          "base_uri": "https://localhost:8080/"
        },
        "outputId": "48950349-9383-4a0a-83a6-2fb3fb0f036e"
      },
      "source": [
        "# problems with price, as the minimum price is $0 and the maximum price is $3,600,028,900.\n",
        "\n",
        "df = df[\n",
        "    (df[\"year\"].between(1945, 2017, inclusive=True)) &\n",
        "    (df[\"price\"].between(100, 200000, inclusive=True)) \n",
        "]\n",
        "\n",
        "# Replace the NaN-Values\n",
        "df['type'].fillna(value='blank', inplace=True)\n",
        "df['model'].fillna(value='blank', inplace=True)\n",
        "df['fuel'].fillna(value='blank', inplace=True)\n",
        "df['condition'].fillna(value='blank', inplace=True)\n",
        "\n",
        "# Change categorical attributes dtype to category\n",
        "\n",
        "for col in df:\n",
        "    if df[col].dtype == \"object\":\n",
        "        df[col] = df[col].astype('category')\n",
        "        \n",
        "# Assign codes to categorical attribues instead of strings\n",
        "\n",
        "cat_cols = df.select_dtypes(['category']).columns\n",
        "\n",
        "df[cat_cols] = df[cat_cols].apply(lambda x: x.cat.codes)\n",
        "\n",
        "# Drop probably unuseful columns\n",
        "\n",
        "#drop_cols = [\"dateCrawled\", \"abtest\", \"dateCreated\", \"nrOfPictures\", \"lastSeen\"]\n",
        "\n",
        "#df = df.drop(drop_cols, axis=1)"
      ],
      "execution_count": null,
      "outputs": [
        {
          "output_type": "stream",
          "text": [
            "/usr/local/lib/python3.7/dist-packages/pandas/core/series.py:4536: SettingWithCopyWarning: \n",
            "A value is trying to be set on a copy of a slice from a DataFrame\n",
            "\n",
            "See the caveats in the documentation: https://pandas.pydata.org/pandas-docs/stable/user_guide/indexing.html#returning-a-view-versus-a-copy\n",
            "  downcast=downcast,\n",
            "/usr/local/lib/python3.7/dist-packages/ipykernel_launcher.py:18: SettingWithCopyWarning: \n",
            "A value is trying to be set on a copy of a slice from a DataFrame.\n",
            "Try using .loc[row_indexer,col_indexer] = value instead\n",
            "\n",
            "See the caveats in the documentation: https://pandas.pydata.org/pandas-docs/stable/user_guide/indexing.html#returning-a-view-versus-a-copy\n",
            "/usr/local/lib/python3.7/dist-packages/pandas/core/frame.py:3069: SettingWithCopyWarning: \n",
            "A value is trying to be set on a copy of a slice from a DataFrame.\n",
            "Try using .loc[row_indexer,col_indexer] = value instead\n",
            "\n",
            "See the caveats in the documentation: https://pandas.pydata.org/pandas-docs/stable/user_guide/indexing.html#returning-a-view-versus-a-copy\n",
            "  self[k1] = value[k2]\n"
          ],
          "name": "stderr"
        }
      ]
    },
    {
      "cell_type": "code",
      "metadata": {
        "colab": {
          "base_uri": "https://localhost:8080/",
          "height": 232
        },
        "id": "NFm3YnH1hRmC",
        "outputId": "cc7a18c4-4ea8-47f7-a397-7583e6fae166"
      },
      "source": [
        "df.head()"
      ],
      "execution_count": null,
      "outputs": [
        {
          "output_type": "execute_result",
          "data": {
            "text/html": [
              "<div>\n",
              "<style scoped>\n",
              "    .dataframe tbody tr th:only-of-type {\n",
              "        vertical-align: middle;\n",
              "    }\n",
              "\n",
              "    .dataframe tbody tr th {\n",
              "        vertical-align: top;\n",
              "    }\n",
              "\n",
              "    .dataframe thead th {\n",
              "        text-align: right;\n",
              "    }\n",
              "</style>\n",
              "<table border=\"1\" class=\"dataframe\">\n",
              "  <thead>\n",
              "    <tr style=\"text-align: right;\">\n",
              "      <th></th>\n",
              "      <th>Unnamed: 0</th>\n",
              "      <th>id</th>\n",
              "      <th>region</th>\n",
              "      <th>price</th>\n",
              "      <th>year</th>\n",
              "      <th>manufacturer</th>\n",
              "      <th>model</th>\n",
              "      <th>condition</th>\n",
              "      <th>cylinders</th>\n",
              "      <th>fuel</th>\n",
              "      <th>odometer</th>\n",
              "      <th>title_status</th>\n",
              "      <th>transmission</th>\n",
              "      <th>drive</th>\n",
              "      <th>size</th>\n",
              "      <th>type</th>\n",
              "      <th>paint_color</th>\n",
              "      <th>lat</th>\n",
              "      <th>long</th>\n",
              "      <th>posting_date</th>\n",
              "    </tr>\n",
              "  </thead>\n",
              "  <tbody>\n",
              "    <tr>\n",
              "      <th>3</th>\n",
              "      <td>3</td>\n",
              "      <td>7240103965</td>\n",
              "      <td>0</td>\n",
              "      <td>2000</td>\n",
              "      <td>1974.0</td>\n",
              "      <td>4</td>\n",
              "      <td>53</td>\n",
              "      <td>2</td>\n",
              "      <td>2</td>\n",
              "      <td>2</td>\n",
              "      <td>190000.0</td>\n",
              "      <td>0</td>\n",
              "      <td>0</td>\n",
              "      <td>2</td>\n",
              "      <td>1</td>\n",
              "      <td>7</td>\n",
              "      <td>1</td>\n",
              "      <td>32.8616</td>\n",
              "      <td>-85.2161</td>\n",
              "      <td>474</td>\n",
              "    </tr>\n",
              "    <tr>\n",
              "      <th>4</th>\n",
              "      <td>4</td>\n",
              "      <td>7239983776</td>\n",
              "      <td>0</td>\n",
              "      <td>19500</td>\n",
              "      <td>2005.0</td>\n",
              "      <td>8</td>\n",
              "      <td>146</td>\n",
              "      <td>0</td>\n",
              "      <td>5</td>\n",
              "      <td>0</td>\n",
              "      <td>116000.0</td>\n",
              "      <td>1</td>\n",
              "      <td>0</td>\n",
              "      <td>0</td>\n",
              "      <td>1</td>\n",
              "      <td>7</td>\n",
              "      <td>1</td>\n",
              "      <td>32.5475</td>\n",
              "      <td>-85.4682</td>\n",
              "      <td>465</td>\n",
              "    </tr>\n",
              "    <tr>\n",
              "      <th>14</th>\n",
              "      <td>14</td>\n",
              "      <td>7237009212</td>\n",
              "      <td>0</td>\n",
              "      <td>4900</td>\n",
              "      <td>2003.0</td>\n",
              "      <td>8</td>\n",
              "      <td>119</td>\n",
              "      <td>2</td>\n",
              "      <td>5</td>\n",
              "      <td>2</td>\n",
              "      <td>177000.0</td>\n",
              "      <td>0</td>\n",
              "      <td>0</td>\n",
              "      <td>2</td>\n",
              "      <td>1</td>\n",
              "      <td>0</td>\n",
              "      <td>1</td>\n",
              "      <td>33.1512</td>\n",
              "      <td>-85.3722</td>\n",
              "      <td>382</td>\n",
              "    </tr>\n",
              "    <tr>\n",
              "      <th>47</th>\n",
              "      <td>47</td>\n",
              "      <td>7231143951</td>\n",
              "      <td>0</td>\n",
              "      <td>6250</td>\n",
              "      <td>2010.0</td>\n",
              "      <td>8</td>\n",
              "      <td>156</td>\n",
              "      <td>2</td>\n",
              "      <td>4</td>\n",
              "      <td>2</td>\n",
              "      <td>82000.0</td>\n",
              "      <td>0</td>\n",
              "      <td>0</td>\n",
              "      <td>1</td>\n",
              "      <td>1</td>\n",
              "      <td>8</td>\n",
              "      <td>9</td>\n",
              "      <td>32.5475</td>\n",
              "      <td>-85.4682</td>\n",
              "      <td>114</td>\n",
              "    </tr>\n",
              "    <tr>\n",
              "      <th>65</th>\n",
              "      <td>65</td>\n",
              "      <td>7228156160</td>\n",
              "      <td>0</td>\n",
              "      <td>27500</td>\n",
              "      <td>2015.0</td>\n",
              "      <td>14</td>\n",
              "      <td>292</td>\n",
              "      <td>3</td>\n",
              "      <td>4</td>\n",
              "      <td>2</td>\n",
              "      <td>84000.0</td>\n",
              "      <td>1</td>\n",
              "      <td>0</td>\n",
              "      <td>0</td>\n",
              "      <td>1</td>\n",
              "      <td>0</td>\n",
              "      <td>10</td>\n",
              "      <td>32.4715</td>\n",
              "      <td>-86.4831</td>\n",
              "      <td>51</td>\n",
              "    </tr>\n",
              "  </tbody>\n",
              "</table>\n",
              "</div>"
            ],
            "text/plain": [
              "    Unnamed: 0          id  region  ...      lat     long  posting_date\n",
              "3            3  7240103965       0  ...  32.8616 -85.2161           474\n",
              "4            4  7239983776       0  ...  32.5475 -85.4682           465\n",
              "14          14  7237009212       0  ...  33.1512 -85.3722           382\n",
              "47          47  7231143951       0  ...  32.5475 -85.4682           114\n",
              "65          65  7228156160       0  ...  32.4715 -86.4831            51\n",
              "\n",
              "[5 rows x 20 columns]"
            ]
          },
          "metadata": {
            "tags": []
          },
          "execution_count": 26
        }
      ]
    },
    {
      "cell_type": "code",
      "metadata": {
        "colab": {
          "base_uri": "https://localhost:8080/"
        },
        "id": "2MsV_xb-hVCO",
        "outputId": "c707527c-a0ed-4f50-ac79-882911189437"
      },
      "source": [
        "df.shape"
      ],
      "execution_count": null,
      "outputs": [
        {
          "output_type": "execute_result",
          "data": {
            "text/plain": [
              "(526, 20)"
            ]
          },
          "metadata": {
            "tags": []
          },
          "execution_count": 31
        }
      ]
    },
    {
      "cell_type": "code",
      "metadata": {
        "colab": {
          "base_uri": "https://localhost:8080/",
          "height": 802
        },
        "id": "sFqJAxpJh269",
        "outputId": "7665d4c8-802d-4c5d-b3a9-6f58ccc3eb06"
      },
      "source": [
        "num_attributes = [\"price\", \"year\", \"type\", \"odometer\"]\n",
        "%matplotlib inline\n",
        "pd.plotting.scatter_matrix(df[num_attributes], figsize = (12,8), alpha = 0.1)"
      ],
      "execution_count": null,
      "outputs": [
        {
          "output_type": "execute_result",
          "data": {
            "text/plain": [
              "array([[<matplotlib.axes._subplots.AxesSubplot object at 0x7f37cea07fd0>,\n",
              "        <matplotlib.axes._subplots.AxesSubplot object at 0x7f37c934e650>,\n",
              "        <matplotlib.axes._subplots.AxesSubplot object at 0x7f37c9308c90>,\n",
              "        <matplotlib.axes._subplots.AxesSubplot object at 0x7f37c92ca350>],\n",
              "       [<matplotlib.axes._subplots.AxesSubplot object at 0x7f37c92fd9d0>,\n",
              "        <matplotlib.axes._subplots.AxesSubplot object at 0x7f37c9299a90>,\n",
              "        <matplotlib.axes._subplots.AxesSubplot object at 0x7f37c9274790>,\n",
              "        <matplotlib.axes._subplots.AxesSubplot object at 0x7f37c9229d50>],\n",
              "       [<matplotlib.axes._subplots.AxesSubplot object at 0x7f37c9229d90>,\n",
              "        <matplotlib.axes._subplots.AxesSubplot object at 0x7f37c91ed550>,\n",
              "        <matplotlib.axes._subplots.AxesSubplot object at 0x7f37c9162190>,\n",
              "        <matplotlib.axes._subplots.AxesSubplot object at 0x7f37c9119810>],\n",
              "       [<matplotlib.axes._subplots.AxesSubplot object at 0x7f37c90cce90>,\n",
              "        <matplotlib.axes._subplots.AxesSubplot object at 0x7f37c9090550>,\n",
              "        <matplotlib.axes._subplots.AxesSubplot object at 0x7f37c9046bd0>,\n",
              "        <matplotlib.axes._subplots.AxesSubplot object at 0x7f37c9007290>]],\n",
              "      dtype=object)"
            ]
          },
          "metadata": {
            "tags": []
          },
          "execution_count": 32
        },
        {
          "output_type": "display_data",
          "data": {
            "image/png": "[encoded data removed]",
            "text/plain": [
              "<Figure size 864x576 with 16 Axes>"
            ]
          },
          "metadata": {
            "tags": [],
            "needs_background": "light"
          }
        }
      ]
    },
    {
      "cell_type": "code",
      "metadata": {
        "colab": {
          "base_uri": "https://localhost:8080/",
          "height": 282
        },
        "id": "i6Xm9OAjBznH",
        "outputId": "b55cf095-0a39-4ec4-fe01-68c0288e1a0a"
      },
      "source": [
        "# Removing Outliers\n",
        "# Creating boxplot from matplotlib \n",
        "\n",
        "#The IQR, also called the midspread, is a measure of statistical dispersion and can be used to get identify and remove outliers. The theory of the IQR range rule is as follows:\n",
        "#Calculate IQR (= 3rd quartile — 1st quartile)\n",
        "#Find the minimum number of the range (=1st quartile — 1.5 * IQR)\n",
        "#Find the maximum number of the range (=3rd quartile + 1.5 * IQR)\n",
        "#Remove any values that lie outside of this range.\n",
        "\n",
        "import matplotlib.pyplot as plt\n",
        "%matplotlib inline\n",
        "\n",
        "df = df[df['price'].between(999.99, 250000)] # Computing IQR\n",
        "Q1 = df['price'].quantile(0.25)\n",
        "Q3 = df['price'].quantile(0.75)\n",
        "IQR = Q3 - Q1\n",
        "# Filtering Values between Q1-1.5IQR and Q3+1.5IQR\n",
        "df = df.query('(@Q1 - 1.5 * @IQR) <= price <= (@Q3 + 1.5 * @IQR)')\n",
        "df.boxplot('price')"
      ],
      "execution_count": null,
      "outputs": [
        {
          "output_type": "execute_result",
          "data": {
            "text/plain": [
              "<matplotlib.axes._subplots.AxesSubplot at 0x7f37c923e1d0>"
            ]
          },
          "metadata": {
            "tags": []
          },
          "execution_count": 37
        },
        {
          "output_type": "display_data",
          "data": {
            "image/png": "[encoded data removed]",
            "text/plain": [
              "<Figure size 432x288 with 1 Axes>"
            ]
          },
          "metadata": {
            "tags": [],
            "needs_background": "light"
          }
        }
      ]
    },
    {
      "cell_type": "code",
      "metadata": {
        "colab": {
          "base_uri": "https://localhost:8080/",
          "height": 304
        },
        "id": "Isb8v8plCi-j",
        "outputId": "b8e0d947-ddea-4a02-8bb7-86bacafe4bbf"
      },
      "source": [
        "df.describe().apply(lambda s: s.apply(lambda x: format(x, 'f')))\n"
      ],
      "execution_count": null,
      "outputs": [
        {
          "output_type": "execute_result",
          "data": {
            "text/html": [
              "<div>\n",
              "<style scoped>\n",
              "    .dataframe tbody tr th:only-of-type {\n",
              "        vertical-align: middle;\n",
              "    }\n",
              "\n",
              "    .dataframe tbody tr th {\n",
              "        vertical-align: top;\n",
              "    }\n",
              "\n",
              "    .dataframe thead th {\n",
              "        text-align: right;\n",
              "    }\n",
              "</style>\n",
              "<table border=\"1\" class=\"dataframe\">\n",
              "  <thead>\n",
              "    <tr style=\"text-align: right;\">\n",
              "      <th></th>\n",
              "      <th>Unnamed: 0</th>\n",
              "      <th>id</th>\n",
              "      <th>region</th>\n",
              "      <th>price</th>\n",
              "      <th>year</th>\n",
              "      <th>manufacturer</th>\n",
              "      <th>model</th>\n",
              "      <th>condition</th>\n",
              "      <th>cylinders</th>\n",
              "      <th>fuel</th>\n",
              "      <th>odometer</th>\n",
              "      <th>title_status</th>\n",
              "      <th>transmission</th>\n",
              "      <th>drive</th>\n",
              "      <th>size</th>\n",
              "      <th>type</th>\n",
              "      <th>paint_color</th>\n",
              "      <th>lat</th>\n",
              "      <th>long</th>\n",
              "      <th>posting_date</th>\n",
              "    </tr>\n",
              "  </thead>\n",
              "  <tbody>\n",
              "    <tr>\n",
              "      <th>count</th>\n",
              "      <td>512.000000</td>\n",
              "      <td>512.000000</td>\n",
              "      <td>512.000000</td>\n",
              "      <td>512.000000</td>\n",
              "      <td>512.000000</td>\n",
              "      <td>512.000000</td>\n",
              "      <td>512.000000</td>\n",
              "      <td>512.000000</td>\n",
              "      <td>512.000000</td>\n",
              "      <td>512.000000</td>\n",
              "      <td>512.000000</td>\n",
              "      <td>512.000000</td>\n",
              "      <td>512.000000</td>\n",
              "      <td>512.000000</td>\n",
              "      <td>512.000000</td>\n",
              "      <td>512.000000</td>\n",
              "      <td>512.000000</td>\n",
              "      <td>512.000000</td>\n",
              "      <td>512.000000</td>\n",
              "      <td>512.000000</td>\n",
              "    </tr>\n",
              "    <tr>\n",
              "      <th>mean</th>\n",
              "      <td>1392.693359</td>\n",
              "      <td>7234627771.373047</td>\n",
              "      <td>1.576172</td>\n",
              "      <td>15434.900391</td>\n",
              "      <td>2009.521484</td>\n",
              "      <td>12.300781</td>\n",
              "      <td>169.886719</td>\n",
              "      <td>1.437500</td>\n",
              "      <td>3.841797</td>\n",
              "      <td>1.841797</td>\n",
              "      <td>122089.515625</td>\n",
              "      <td>0.142578</td>\n",
              "      <td>0.087891</td>\n",
              "      <td>1.001953</td>\n",
              "      <td>1.166016</td>\n",
              "      <td>4.613281</td>\n",
              "      <td>6.443359</td>\n",
              "      <td>34.088029</td>\n",
              "      <td>-85.242440</td>\n",
              "      <td>260.671875</td>\n",
              "    </tr>\n",
              "    <tr>\n",
              "      <th>std</th>\n",
              "      <td>854.846829</td>\n",
              "      <td>4153804.536573</td>\n",
              "      <td>1.159517</td>\n",
              "      <td>10454.962788</td>\n",
              "      <td>6.961983</td>\n",
              "      <td>7.919319</td>\n",
              "      <td>92.877351</td>\n",
              "      <td>1.027984</td>\n",
              "      <td>1.165540</td>\n",
              "      <td>0.559888</td>\n",
              "      <td>64404.682462</td>\n",
              "      <td>0.708616</td>\n",
              "      <td>0.345632</td>\n",
              "      <td>0.831143</td>\n",
              "      <td>0.554096</td>\n",
              "      <td>4.116558</td>\n",
              "      <td>3.927015</td>\n",
              "      <td>2.207836</td>\n",
              "      <td>3.511622</td>\n",
              "      <td>150.561980</td>\n",
              "    </tr>\n",
              "    <tr>\n",
              "      <th>min</th>\n",
              "      <td>3.000000</td>\n",
              "      <td>7224868654.000000</td>\n",
              "      <td>0.000000</td>\n",
              "      <td>1000.000000</td>\n",
              "      <td>1955.000000</td>\n",
              "      <td>0.000000</td>\n",
              "      <td>0.000000</td>\n",
              "      <td>0.000000</td>\n",
              "      <td>0.000000</td>\n",
              "      <td>0.000000</td>\n",
              "      <td>1.000000</td>\n",
              "      <td>0.000000</td>\n",
              "      <td>0.000000</td>\n",
              "      <td>0.000000</td>\n",
              "      <td>0.000000</td>\n",
              "      <td>0.000000</td>\n",
              "      <td>0.000000</td>\n",
              "      <td>28.069889</td>\n",
              "      <td>-100.542731</td>\n",
              "      <td>0.000000</td>\n",
              "    </tr>\n",
              "    <tr>\n",
              "      <th>25%</th>\n",
              "      <td>607.500000</td>\n",
              "      <td>7231869441.250000</td>\n",
              "      <td>1.000000</td>\n",
              "      <td>7200.000000</td>\n",
              "      <td>2006.000000</td>\n",
              "      <td>8.000000</td>\n",
              "      <td>94.750000</td>\n",
              "      <td>0.000000</td>\n",
              "      <td>4.000000</td>\n",
              "      <td>2.000000</td>\n",
              "      <td>78418.000000</td>\n",
              "      <td>0.000000</td>\n",
              "      <td>0.000000</td>\n",
              "      <td>0.000000</td>\n",
              "      <td>1.000000</td>\n",
              "      <td>0.000000</td>\n",
              "      <td>3.000000</td>\n",
              "      <td>33.243049</td>\n",
              "      <td>-86.817377</td>\n",
              "      <td>131.750000</td>\n",
              "    </tr>\n",
              "    <tr>\n",
              "      <th>50%</th>\n",
              "      <td>1270.000000</td>\n",
              "      <td>7235463319.500000</td>\n",
              "      <td>1.000000</td>\n",
              "      <td>12985.000000</td>\n",
              "      <td>2011.000000</td>\n",
              "      <td>10.000000</td>\n",
              "      <td>172.000000</td>\n",
              "      <td>2.000000</td>\n",
              "      <td>4.000000</td>\n",
              "      <td>2.000000</td>\n",
              "      <td>113243.000000</td>\n",
              "      <td>0.000000</td>\n",
              "      <td>0.000000</td>\n",
              "      <td>1.000000</td>\n",
              "      <td>1.000000</td>\n",
              "      <td>4.500000</td>\n",
              "      <td>8.000000</td>\n",
              "      <td>33.836393</td>\n",
              "      <td>-86.545000</td>\n",
              "      <td>260.500000</td>\n",
              "    </tr>\n",
              "    <tr>\n",
              "      <th>75%</th>\n",
              "      <td>2204.250000</td>\n",
              "      <td>7237421993.500000</td>\n",
              "      <td>2.000000</td>\n",
              "      <td>21960.000000</td>\n",
              "      <td>2015.000000</td>\n",
              "      <td>16.000000</td>\n",
              "      <td>261.250000</td>\n",
              "      <td>2.000000</td>\n",
              "      <td>5.000000</td>\n",
              "      <td>2.000000</td>\n",
              "      <td>160243.750000</td>\n",
              "      <td>0.000000</td>\n",
              "      <td>0.000000</td>\n",
              "      <td>2.000000</td>\n",
              "      <td>1.000000</td>\n",
              "      <td>9.000000</td>\n",
              "      <td>10.000000</td>\n",
              "      <td>34.586557</td>\n",
              "      <td>-84.777856</td>\n",
              "      <td>390.250000</td>\n",
              "    </tr>\n",
              "    <tr>\n",
              "      <th>max</th>\n",
              "      <td>2998.000000</td>\n",
              "      <td>7240585748.000000</td>\n",
              "      <td>5.000000</td>\n",
              "      <td>45000.000000</td>\n",
              "      <td>2017.000000</td>\n",
              "      <td>29.000000</td>\n",
              "      <td>302.000000</td>\n",
              "      <td>5.000000</td>\n",
              "      <td>6.000000</td>\n",
              "      <td>3.000000</td>\n",
              "      <td>447435.000000</td>\n",
              "      <td>4.000000</td>\n",
              "      <td>2.000000</td>\n",
              "      <td>2.000000</td>\n",
              "      <td>3.000000</td>\n",
              "      <td>11.000000</td>\n",
              "      <td>11.000000</td>\n",
              "      <td>40.468826</td>\n",
              "      <td>-74.281734</td>\n",
              "      <td>523.000000</td>\n",
              "    </tr>\n",
              "  </tbody>\n",
              "</table>\n",
              "</div>"
            ],
            "text/plain": [
              "        Unnamed: 0                 id  ...         long posting_date\n",
              "count   512.000000         512.000000  ...   512.000000   512.000000\n",
              "mean   1392.693359  7234627771.373047  ...   -85.242440   260.671875\n",
              "std     854.846829     4153804.536573  ...     3.511622   150.561980\n",
              "min       3.000000  7224868654.000000  ...  -100.542731     0.000000\n",
              "25%     607.500000  7231869441.250000  ...   -86.817377   131.750000\n",
              "50%    1270.000000  7235463319.500000  ...   -86.545000   260.500000\n",
              "75%    2204.250000  7237421993.500000  ...   -84.777856   390.250000\n",
              "max    2998.000000  7240585748.000000  ...   -74.281734   523.000000\n",
              "\n",
              "[8 rows x 20 columns]"
            ]
          },
          "metadata": {
            "tags": []
          },
          "execution_count": 38
        }
      ]
    },
    {
      "cell_type": "code",
      "metadata": {
        "id": "UeTOimNzDcv1"
      },
      "source": [
        "# set the ranges for odometer to 0–271,341.5.\n",
        "df = df[df['odometer'].between(0, 271431.5)]"
      ],
      "execution_count": null,
      "outputs": []
    },
    {
      "cell_type": "code",
      "metadata": {
        "colab": {
          "base_uri": "https://localhost:8080/"
        },
        "id": "zvLe3hLYEogc",
        "outputId": "1a0408b5-0bf7-4192-a4b3-038232805d43"
      },
      "source": [
        "df.columns"
      ],
      "execution_count": null,
      "outputs": [
        {
          "output_type": "execute_result",
          "data": {
            "text/plain": [
              "Index(['Unnamed: 0', 'id', 'region', 'price', 'year', 'manufacturer', 'model',\n",
              "       'condition', 'cylinders', 'fuel', 'odometer', 'title_status',\n",
              "       'transmission', 'drive', 'size', 'type', 'paint_color', 'lat', 'long',\n",
              "       'posting_date'],\n",
              "      dtype='object')"
            ]
          },
          "metadata": {
            "tags": []
          },
          "execution_count": 40
        }
      ]
    },
    {
      "cell_type": "code",
      "metadata": {
        "colab": {
          "base_uri": "https://localhost:8080/"
        },
        "id": "PX3sDfzgDwYV",
        "outputId": "1840d9cb-5128-4985-8f8a-28f9082c8122"
      },
      "source": [
        "#Keeping only useful column\n",
        "\n",
        "df_final = df.copy().drop(['id','region','model','paint_color'], axis =1)\n",
        "df_final.columns"
      ],
      "execution_count": null,
      "outputs": [
        {
          "output_type": "execute_result",
          "data": {
            "text/plain": [
              "Index(['Unnamed: 0', 'price', 'year', 'manufacturer', 'condition', 'cylinders',\n",
              "       'fuel', 'odometer', 'title_status', 'transmission', 'drive', 'size',\n",
              "       'type', 'lat', 'long', 'posting_date'],\n",
              "      dtype='object')"
            ]
          },
          "metadata": {
            "tags": []
          },
          "execution_count": 41
        }
      ]
    },
    {
      "cell_type": "code",
      "metadata": {
        "colab": {
          "base_uri": "https://localhost:8080/",
          "height": 285
        },
        "id": "p6kuPtQeFCjH",
        "outputId": "ff9fd793-c81b-4a7c-81e9-4be3a12537bd"
      },
      "source": [
        "#bar graph\n",
        "df_final['manufacturer'].value_counts().plot(kind='bar')"
      ],
      "execution_count": null,
      "outputs": [
        {
          "output_type": "execute_result",
          "data": {
            "text/plain": [
              "<matplotlib.axes._subplots.AxesSubplot at 0x7f37c935c850>"
            ]
          },
          "metadata": {
            "tags": []
          },
          "execution_count": 42
        },
        {
          "output_type": "display_data",
          "data": {
            "image/png": "[encoded data removed]",
            "text/plain": [
              "<Figure size 432x288 with 1 Axes>"
            ]
          },
          "metadata": {
            "tags": [],
            "needs_background": "light"
          }
        }
      ]
    },
    {
      "cell_type": "code",
      "metadata": {
        "colab": {
          "base_uri": "https://localhost:8080/",
          "height": 285
        },
        "id": "Z7ZZpZ3oFh3g",
        "outputId": "582ab947-2f16-420f-c9b9-1f92f3d1bb80"
      },
      "source": [
        "df_final['type'].value_counts().plot(kind='bar')"
      ],
      "execution_count": null,
      "outputs": [
        {
          "output_type": "execute_result",
          "data": {
            "text/plain": [
              "<matplotlib.axes._subplots.AxesSubplot at 0x7f37c6ee3f50>"
            ]
          },
          "metadata": {
            "tags": []
          },
          "execution_count": 43
        },
        {
          "output_type": "display_data",
          "data": {
            "image/png": "[encoded data removed]",
            "text/plain": [
              "<Figure size 432x288 with 1 Axes>"
            ]
          },
          "metadata": {
            "tags": [],
            "needs_background": "light"
          }
        }
      ]
    },
    {
      "cell_type": "code",
      "metadata": {
        "colab": {
          "base_uri": "https://localhost:8080/",
          "height": 232
        },
        "id": "z3VDEU-6KDbv",
        "outputId": "b81daf2a-4b3e-4904-94b7-afaa06413951"
      },
      "source": [
        "df_final.head()"
      ],
      "execution_count": null,
      "outputs": [
        {
          "output_type": "execute_result",
          "data": {
            "text/html": [
              "<div>\n",
              "<style scoped>\n",
              "    .dataframe tbody tr th:only-of-type {\n",
              "        vertical-align: middle;\n",
              "    }\n",
              "\n",
              "    .dataframe tbody tr th {\n",
              "        vertical-align: top;\n",
              "    }\n",
              "\n",
              "    .dataframe thead th {\n",
              "        text-align: right;\n",
              "    }\n",
              "</style>\n",
              "<table border=\"1\" class=\"dataframe\">\n",
              "  <thead>\n",
              "    <tr style=\"text-align: right;\">\n",
              "      <th></th>\n",
              "      <th>Unnamed: 0</th>\n",
              "      <th>price</th>\n",
              "      <th>year</th>\n",
              "      <th>manufacturer</th>\n",
              "      <th>condition</th>\n",
              "      <th>cylinders</th>\n",
              "      <th>fuel</th>\n",
              "      <th>odometer</th>\n",
              "      <th>title_status</th>\n",
              "      <th>transmission</th>\n",
              "      <th>drive</th>\n",
              "      <th>size</th>\n",
              "      <th>type</th>\n",
              "      <th>lat</th>\n",
              "      <th>long</th>\n",
              "      <th>posting_date</th>\n",
              "    </tr>\n",
              "  </thead>\n",
              "  <tbody>\n",
              "    <tr>\n",
              "      <th>3</th>\n",
              "      <td>3</td>\n",
              "      <td>2000</td>\n",
              "      <td>1974.0</td>\n",
              "      <td>4</td>\n",
              "      <td>2</td>\n",
              "      <td>2</td>\n",
              "      <td>2</td>\n",
              "      <td>190000.0</td>\n",
              "      <td>0</td>\n",
              "      <td>0</td>\n",
              "      <td>2</td>\n",
              "      <td>1</td>\n",
              "      <td>7</td>\n",
              "      <td>32.8616</td>\n",
              "      <td>-85.2161</td>\n",
              "      <td>474</td>\n",
              "    </tr>\n",
              "    <tr>\n",
              "      <th>4</th>\n",
              "      <td>4</td>\n",
              "      <td>19500</td>\n",
              "      <td>2005.0</td>\n",
              "      <td>8</td>\n",
              "      <td>0</td>\n",
              "      <td>5</td>\n",
              "      <td>0</td>\n",
              "      <td>116000.0</td>\n",
              "      <td>1</td>\n",
              "      <td>0</td>\n",
              "      <td>0</td>\n",
              "      <td>1</td>\n",
              "      <td>7</td>\n",
              "      <td>32.5475</td>\n",
              "      <td>-85.4682</td>\n",
              "      <td>465</td>\n",
              "    </tr>\n",
              "    <tr>\n",
              "      <th>14</th>\n",
              "      <td>14</td>\n",
              "      <td>4900</td>\n",
              "      <td>2003.0</td>\n",
              "      <td>8</td>\n",
              "      <td>2</td>\n",
              "      <td>5</td>\n",
              "      <td>2</td>\n",
              "      <td>177000.0</td>\n",
              "      <td>0</td>\n",
              "      <td>0</td>\n",
              "      <td>2</td>\n",
              "      <td>1</td>\n",
              "      <td>0</td>\n",
              "      <td>33.1512</td>\n",
              "      <td>-85.3722</td>\n",
              "      <td>382</td>\n",
              "    </tr>\n",
              "    <tr>\n",
              "      <th>47</th>\n",
              "      <td>47</td>\n",
              "      <td>6250</td>\n",
              "      <td>2010.0</td>\n",
              "      <td>8</td>\n",
              "      <td>2</td>\n",
              "      <td>4</td>\n",
              "      <td>2</td>\n",
              "      <td>82000.0</td>\n",
              "      <td>0</td>\n",
              "      <td>0</td>\n",
              "      <td>1</td>\n",
              "      <td>1</td>\n",
              "      <td>8</td>\n",
              "      <td>32.5475</td>\n",
              "      <td>-85.4682</td>\n",
              "      <td>114</td>\n",
              "    </tr>\n",
              "    <tr>\n",
              "      <th>65</th>\n",
              "      <td>65</td>\n",
              "      <td>27500</td>\n",
              "      <td>2015.0</td>\n",
              "      <td>14</td>\n",
              "      <td>3</td>\n",
              "      <td>4</td>\n",
              "      <td>2</td>\n",
              "      <td>84000.0</td>\n",
              "      <td>1</td>\n",
              "      <td>0</td>\n",
              "      <td>0</td>\n",
              "      <td>1</td>\n",
              "      <td>0</td>\n",
              "      <td>32.4715</td>\n",
              "      <td>-86.4831</td>\n",
              "      <td>51</td>\n",
              "    </tr>\n",
              "  </tbody>\n",
              "</table>\n",
              "</div>"
            ],
            "text/plain": [
              "    Unnamed: 0  price    year  ...      lat     long  posting_date\n",
              "3            3   2000  1974.0  ...  32.8616 -85.2161           474\n",
              "4            4  19500  2005.0  ...  32.5475 -85.4682           465\n",
              "14          14   4900  2003.0  ...  33.1512 -85.3722           382\n",
              "47          47   6250  2010.0  ...  32.5475 -85.4682           114\n",
              "65          65  27500  2015.0  ...  32.4715 -86.4831            51\n",
              "\n",
              "[5 rows x 16 columns]"
            ]
          },
          "metadata": {
            "tags": []
          },
          "execution_count": 44
        }
      ]
    },
    {
      "cell_type": "code",
      "metadata": {
        "colab": {
          "base_uri": "https://localhost:8080/",
          "height": 282
        },
        "id": "XKsNXmmpi82H",
        "outputId": "4d028d77-0c92-4084-b3eb-ddb9e3d5eb6e"
      },
      "source": [
        "#Histogram for price\n",
        "df_final[\"price\"].hist(bins = 100, log = True)"
      ],
      "execution_count": null,
      "outputs": [
        {
          "output_type": "execute_result",
          "data": {
            "text/plain": [
              "<matplotlib.axes._subplots.AxesSubplot at 0x7f37c6cd2d10>"
            ]
          },
          "metadata": {
            "tags": []
          },
          "execution_count": 46
        },
        {
          "output_type": "display_data",
          "data": {
            "image/png": "[encoded data removed]",
            "text/plain": [
              "<Figure size 432x288 with 1 Axes>"
            ]
          },
          "metadata": {
            "tags": [],
            "needs_background": "light"
          }
        }
      ]
    },
    {
      "cell_type": "code",
      "metadata": {
        "colab": {
          "base_uri": "https://localhost:8080/"
        },
        "id": "tU0XakpvJGNH",
        "outputId": "d14eec54-1eb8-4957-b64e-0ad1ea116b4f"
      },
      "source": [
        "X = df_final.drop('price',axis=1)\n",
        "\n",
        "y = df_final.price\n",
        "\n",
        "from sklearn.linear_model import LinearRegression\n",
        "linreg = LinearRegression()\n",
        "linreg.fit(X,y)"
      ],
      "execution_count": null,
      "outputs": [
        {
          "output_type": "execute_result",
          "data": {
            "text/plain": [
              "LinearRegression(copy_X=True, fit_intercept=True, n_jobs=None, normalize=False)"
            ]
          },
          "metadata": {
            "tags": []
          },
          "execution_count": 47
        }
      ]
    },
    {
      "cell_type": "code",
      "metadata": {
        "colab": {
          "base_uri": "https://localhost:8080/"
        },
        "id": "SnxP2VXNjYDU",
        "outputId": "5c0390fe-54e3-4a8e-8e25-383ae17f5065"
      },
      "source": [
        "from sklearn.metrics import mean_squared_error\n",
        "\n",
        "cars_predictions = linreg.predict(X)\n",
        "lin_mse = mean_squared_error(y, cars_predictions)\n",
        "lin_rmse = np.sqrt(lin_mse)\n",
        "lin_rmse"
      ],
      "execution_count": null,
      "outputs": [
        {
          "output_type": "execute_result",
          "data": {
            "text/plain": [
              "6500.824815250056"
            ]
          },
          "metadata": {
            "tags": []
          },
          "execution_count": 48
        }
      ]
    },
    {
      "cell_type": "code",
      "metadata": {
        "colab": {
          "base_uri": "https://localhost:8080/"
        },
        "id": "8XthmPbCjmMC",
        "outputId": "cb21a316-6cbc-40a1-d96e-b6214226dd84"
      },
      "source": [
        "cars_predictions[0:4]"
      ],
      "execution_count": null,
      "outputs": [
        {
          "output_type": "execute_result",
          "data": {
            "text/plain": [
              "array([-12147.71116904,  25465.51775451,   8560.01908382,  18932.58963711])"
            ]
          },
          "metadata": {
            "tags": []
          },
          "execution_count": 49
        }
      ]
    },
    {
      "cell_type": "code",
      "metadata": {
        "colab": {
          "base_uri": "https://localhost:8080/"
        },
        "id": "xrYuQEKPjn8v",
        "outputId": "dfbb902a-af77-4988-c8cd-deda92c9d6a4"
      },
      "source": [
        "list(y[0:4])"
      ],
      "execution_count": null,
      "outputs": [
        {
          "output_type": "execute_result",
          "data": {
            "text/plain": [
              "[2000, 19500, 4900, 6250]"
            ]
          },
          "metadata": {
            "tags": []
          },
          "execution_count": 51
        }
      ]
    }
  ]
}